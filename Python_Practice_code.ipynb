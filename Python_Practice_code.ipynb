{
 "cells": [
  {
   "cell_type": "code",
   "execution_count": null,
   "metadata": {},
   "outputs": [],
   "source": [
    "# 1. No spaces between them\n",
    "# 2. It shouldnot start by a number\n",
    "# 3. In place of space we write underscore (_)"
   ]
  },
  {
   "cell_type": "code",
   "execution_count": 8,
   "metadata": {},
   "outputs": [],
   "source": [
    "__a__ = 1"
   ]
  },
  {
   "cell_type": "code",
   "execution_count": 9,
   "metadata": {},
   "outputs": [
    {
     "name": "stdout",
     "output_type": "stream",
     "text": [
      "22\n"
     ]
    }
   ],
   "source": [
    "a = \"2\"\n",
    "b = \"2\"\n",
    "print(a + b)"
   ]
  },
  {
   "cell_type": "code",
   "execution_count": 42,
   "metadata": {},
   "outputs": [
    {
     "name": "stdout",
     "output_type": "stream",
     "text": [
      "16\n"
     ]
    }
   ],
   "source": [
    "a=2\n",
    "a=a<<3\n",
    "print(a)\n"
   ]
  },
  {
   "cell_type": "code",
   "execution_count": 63,
   "metadata": {},
   "outputs": [
    {
     "name": "stdout",
     "output_type": "stream",
     "text": [
      "hello muzammil and hasan\n"
     ]
    }
   ],
   "source": [
    "print(\"hello {name1} and {name2}\".format(name1=\"muzammil\",name2=\"hasan\"))"
   ]
  },
  {
   "cell_type": "code",
   "execution_count": 7,
   "metadata": {},
   "outputs": [
    {
     "name": "stdout",
     "output_type": "stream",
     "text": [
      "44.0\n"
     ]
    }
   ],
   "source": [
    "# Pemdas Rule\n",
    "# P = parathesis\n",
    "# e = exponent\n",
    "# m = multiplication\n",
    "# d = divide\n",
    "# a = addition\n",
    "# s = subtration\n",
    "\n",
    "a = (2+3)**2+4*5-1/1\n",
    "print(a)"
   ]
  },
  {
   "cell_type": "code",
   "execution_count": 5,
   "metadata": {},
   "outputs": [
    {
     "name": "stdout",
     "output_type": "stream",
     "text": [
      "1.3333333333333333\n"
     ]
    }
   ],
   "source": [
    "print( 4/3*(2-1) )"
   ]
  },
  {
   "cell_type": "code",
   "execution_count": 11,
   "metadata": {},
   "outputs": [
    {
     "name": "stdout",
     "output_type": "stream",
     "text": [
      "7\n",
      "2\n",
      "0\n"
     ]
    }
   ],
   "source": [
    "print(4+3%5); print(7%5);print(16%15//16)"
   ]
  },
  {
   "cell_type": "code",
   "execution_count": 19,
   "metadata": {},
   "outputs": [
    {
     "name": "stdout",
     "output_type": "stream",
     "text": [
      "44\n",
      "0.33\n"
     ]
    }
   ],
   "source": [
    "print(int(43.55+2/2));print('{0:.2}'.format(1/3))"
   ]
  },
  {
   "cell_type": "code",
   "execution_count": 20,
   "metadata": {},
   "outputs": [
    {
     "name": "stdout",
     "output_type": "stream",
     "text": [
      "good\n"
     ]
    }
   ],
   "source": [
    "if (9 < 0) and (0 < -9):\n",
    "   print(\"hello\")\n",
    "elif (9 > 0) or False: \n",
    "   print(\"good\") \n",
    "else: \n",
    "   print(\"bad\")\n"
   ]
  },
  {
   "cell_type": "code",
   "execution_count": 21,
   "metadata": {},
   "outputs": [
    {
     "data": {
      "text/plain": [
       "False"
      ]
     },
     "execution_count": 21,
     "metadata": {},
     "output_type": "execute_result"
    }
   ],
   "source": [
    "not(10<20) and not(10>30)\n"
   ]
  },
  {
   "cell_type": "code",
   "execution_count": 24,
   "metadata": {},
   "outputs": [
    {
     "data": {
      "text/plain": [
       "True"
      ]
     },
     "execution_count": 24,
     "metadata": {},
     "output_type": "execute_result"
    }
   ],
   "source": [
    "not(10<20) or not(10>30)"
   ]
  },
  {
   "cell_type": "code",
   "execution_count": 3,
   "metadata": {},
   "outputs": [
    {
     "name": "stdout",
     "output_type": "stream",
     "text": [
      "yes\n"
     ]
    }
   ],
   "source": [
    "if 7>=8 :\n",
    "    print (\"yes\") ; print (\"yes\"); print (\"yes\")\n",
    "    print (\"yes\")\n",
    "print (\"yes\")"
   ]
  },
  {
   "cell_type": "code",
   "execution_count": 9,
   "metadata": {},
   "outputs": [
    {
     "data": {
      "text/plain": [
       "[]"
      ]
     },
     "execution_count": 9,
     "metadata": {},
     "output_type": "execute_result"
    }
   ],
   "source": [
    "h=[]\n",
    "h"
   ]
  },
  {
   "cell_type": "code",
   "execution_count": 10,
   "metadata": {},
   "outputs": [
    {
     "data": {
      "text/plain": [
       "204"
      ]
     },
     "execution_count": 10,
     "metadata": {},
     "output_type": "execute_result"
    }
   ],
   "source": [
    "h=[\"muzammil\",36,5.4,81,True,[304,204],81]\n",
    "h;h[5][1]"
   ]
  },
  {
   "cell_type": "code",
   "execution_count": 12,
   "metadata": {},
   "outputs": [
    {
     "data": {
      "text/plain": [
       "6"
      ]
     },
     "execution_count": 12,
     "metadata": {},
     "output_type": "execute_result"
    }
   ],
   "source": [
    " h.index(81,4)"
   ]
  },
  {
   "cell_type": "code",
   "execution_count": 75,
   "metadata": {},
   "outputs": [
    {
     "data": {
      "text/plain": [
       "2"
      ]
     },
     "execution_count": 75,
     "metadata": {},
     "output_type": "execute_result"
    }
   ],
   "source": [
    "h.count(81)"
   ]
  },
  {
   "cell_type": "code",
   "execution_count": 11,
   "metadata": {},
   "outputs": [
    {
     "data": {
      "text/plain": [
       "81"
      ]
     },
     "execution_count": 11,
     "metadata": {},
     "output_type": "execute_result"
    }
   ],
   "source": [
    "h[3]"
   ]
  },
  {
   "cell_type": "code",
   "execution_count": 28,
   "metadata": {},
   "outputs": [
    {
     "data": {
      "text/plain": [
       "['muzammil', 'hasan', 'ali', 'waqar']"
      ]
     },
     "execution_count": 28,
     "metadata": {},
     "output_type": "execute_result"
    }
   ],
   "source": [
    "h=[\"muzammil\",\"hasan\",\"ali\",\"waqar\"]\n",
    "h"
   ]
  },
  {
   "cell_type": "code",
   "execution_count": 30,
   "metadata": {},
   "outputs": [
    {
     "data": {
      "text/plain": [
       "['hasan', 'hasan', 'ali', 'waqar']"
      ]
     },
     "execution_count": 30,
     "metadata": {},
     "output_type": "execute_result"
    }
   ],
   "source": [
    "g=h\n",
    "g[0]=\"hasan\"\n",
    "h"
   ]
  },
  {
   "cell_type": "code",
   "execution_count": 12,
   "metadata": {},
   "outputs": [
    {
     "data": {
      "text/plain": [
       "['muzammil', 36, 'syed', 81, True, [304, 204], 81]"
      ]
     },
     "execution_count": 12,
     "metadata": {},
     "output_type": "execute_result"
    }
   ],
   "source": [
    "h[2]=\"syed\"\n",
    "h"
   ]
  },
  {
   "cell_type": "code",
   "execution_count": 18,
   "metadata": {},
   "outputs": [
    {
     "name": "stdout",
     "output_type": "stream",
     "text": [
      "2\n"
     ]
    }
   ],
   "source": [
    "if 'Syed' in h:\n",
    "    print(1)\n",
    "else:\n",
    "    print(2)"
   ]
  },
  {
   "cell_type": "code",
   "execution_count": 4,
   "metadata": {},
   "outputs": [
    {
     "data": {
      "text/plain": [
       "['muzammil', 'hasan', 'syed', 'waqar', 'ali']"
      ]
     },
     "execution_count": 4,
     "metadata": {},
     "output_type": "execute_result"
    }
   ],
   "source": [
    "h.append(\"ali\")\n",
    "h"
   ]
  },
  {
   "cell_type": "code",
   "execution_count": 40,
   "metadata": {},
   "outputs": [
    {
     "name": "stdout",
     "output_type": "stream",
     "text": [
      "c\n"
     ]
    }
   ],
   "source": [
    "names1 = ['Amir', 'Bala', 'Charlie']\n",
    "names2 = [name.lower() for name in names1]\n",
    "\n",
    "print(names2[2][0])\n"
   ]
  },
  {
   "cell_type": "code",
   "execution_count": 42,
   "metadata": {},
   "outputs": [
    {
     "name": "stdout",
     "output_type": "stream",
     "text": [
      "['Amir', 'Bala', 'Charlie', 'amir', 'bala', 'charlie', 'amir', 'bala', 'charlie']\n"
     ]
    }
   ],
   "source": [
    "names1+=names2\n",
    "print(names1)"
   ]
  },
  {
   "cell_type": "code",
   "execution_count": 43,
   "metadata": {},
   "outputs": [],
   "source": [
    "h+=[\"syed\",\"syed\"]"
   ]
  },
  {
   "cell_type": "code",
   "execution_count": 6,
   "metadata": {},
   "outputs": [
    {
     "data": {
      "text/plain": [
       "['muzammil', 'hasan', 'syed', 'waqar', 'ali', 'syed', 'syed']"
      ]
     },
     "execution_count": 6,
     "metadata": {},
     "output_type": "execute_result"
    }
   ],
   "source": [
    "h"
   ]
  },
  {
   "cell_type": "code",
   "execution_count": 7,
   "metadata": {},
   "outputs": [
    {
     "data": {
      "text/plain": [
       "['muzammil', 'hasan', 'syed', 'waqar', 'qaiser', 'ali', 'syed', 'syed']"
      ]
     },
     "execution_count": 7,
     "metadata": {},
     "output_type": "execute_result"
    }
   ],
   "source": [
    "h.insert(4,\"qaiser\")\n",
    "h"
   ]
  },
  {
   "cell_type": "code",
   "execution_count": 12,
   "metadata": {},
   "outputs": [
    {
     "name": "stdout",
     "output_type": "stream",
     "text": [
      "['syed', 'waqar', 'qaiser']\n",
      "['syed', 'waqar']\n",
      "['waqar', 'qaiser']\n"
     ]
    }
   ],
   "source": [
    "z=h[2:5]\n",
    "x=z[:2]\n",
    "p=z[1:]\n",
    "print(z)\n",
    "print(x)\n",
    "print(p)"
   ]
  },
  {
   "cell_type": "code",
   "execution_count": 14,
   "metadata": {},
   "outputs": [
    {
     "data": {
      "text/plain": [
       "['muzammil', 'hasan', 'syed', 'ali', 'syed', 'syed']"
      ]
     },
     "execution_count": 14,
     "metadata": {},
     "output_type": "execute_result"
    }
   ],
   "source": [
    "del h[3]\n",
    "h"
   ]
  },
  {
   "cell_type": "code",
   "execution_count": 16,
   "metadata": {},
   "outputs": [
    {
     "data": {
      "text/plain": [
       "['muzammil', 'hasan', 'ali', 'syed', 'syed']"
      ]
     },
     "execution_count": 16,
     "metadata": {},
     "output_type": "execute_result"
    }
   ],
   "source": [
    "h.remove(\"syed\")\n",
    "h"
   ]
  },
  {
   "cell_type": "code",
   "execution_count": 17,
   "metadata": {},
   "outputs": [
    {
     "data": {
      "text/plain": [
       "'syed'"
      ]
     },
     "execution_count": 17,
     "metadata": {},
     "output_type": "execute_result"
    }
   ],
   "source": [
    "z=h.pop()\n",
    "z"
   ]
  },
  {
   "cell_type": "code",
   "execution_count": 18,
   "metadata": {},
   "outputs": [
    {
     "data": {
      "text/plain": [
       "'hasan'"
      ]
     },
     "execution_count": 18,
     "metadata": {},
     "output_type": "execute_result"
    }
   ],
   "source": [
    "z=h.pop(1)\n",
    "z"
   ]
  },
  {
   "cell_type": "code",
   "execution_count": 19,
   "metadata": {},
   "outputs": [
    {
     "data": {
      "text/plain": [
       "['muzammil', 'ali', 'syed']"
      ]
     },
     "execution_count": 19,
     "metadata": {},
     "output_type": "execute_result"
    }
   ],
   "source": [
    "h\n"
   ]
  },
  {
   "cell_type": "code",
   "execution_count": 21,
   "metadata": {},
   "outputs": [
    {
     "data": {
      "text/plain": [
       "'ALI'"
      ]
     },
     "execution_count": 21,
     "metadata": {},
     "output_type": "execute_result"
    }
   ],
   "source": [
    "h[1].upper()\n"
   ]
  },
  {
   "cell_type": "code",
   "execution_count": 22,
   "metadata": {},
   "outputs": [
    {
     "data": {
      "text/plain": [
       "['muzammil', 'ali', 'syed']"
      ]
     },
     "execution_count": 22,
     "metadata": {},
     "output_type": "execute_result"
    }
   ],
   "source": [
    "h"
   ]
  },
  {
   "cell_type": "code",
   "execution_count": 26,
   "metadata": {},
   "outputs": [
    {
     "name": "stdout",
     "output_type": "stream",
     "text": [
      "muzammil\n",
      "your are authorized\n",
      "ali\n",
      "syed\n"
     ]
    }
   ],
   "source": [
    "for name in h:\n",
    "    print(name)\n",
    "    if name == \"muzammil\":\n",
    "        print (\"your are authorized\")\n",
    " "
   ]
  },
  {
   "cell_type": "code",
   "execution_count": 4,
   "metadata": {},
   "outputs": [
    {
     "data": {
      "text/plain": [
       "{1, 2, 3, 4, 5, 6, 7, 8}"
      ]
     },
     "execution_count": 4,
     "metadata": {},
     "output_type": "execute_result"
    }
   ],
   "source": [
    "# sets\n",
    "s={1,2,3,1,2,3,4,5,6,7,8,}\n",
    "s"
   ]
  },
  {
   "cell_type": "code",
   "execution_count": 3,
   "metadata": {},
   "outputs": [
    {
     "name": "stdout",
     "output_type": "stream",
     "text": [
      "{1, 2, 3, 4, 5, 6, 7, 8}\n"
     ]
    }
   ],
   "source": [
    "print(s) # only give unique values no duplicates"
   ]
  },
  {
   "cell_type": "code",
   "execution_count": 33,
   "metadata": {},
   "outputs": [
    {
     "name": "stdout",
     "output_type": "stream",
     "text": [
      "('muz', 'smh', 'arc', 'dec', 'wes', 'ces', 'scb', 'sbp')\n"
     ]
    },
    {
     "ename": "AttributeError",
     "evalue": "'tuple' object has no attribute 'append'",
     "output_type": "error",
     "traceback": [
      "\u001b[1;31m---------------------------------------------------------------------------\u001b[0m",
      "\u001b[1;31mAttributeError\u001b[0m                            Traceback (most recent call last)",
      "\u001b[1;32m<ipython-input-33-df58d8d44f2c>\u001b[0m in \u001b[0;36m<module>\u001b[1;34m\u001b[0m\n\u001b[0;32m      6\u001b[0m \u001b[0mtup\u001b[0m \u001b[1;33m=\u001b[0m \u001b[1;33m(\u001b[0m\u001b[1;34m\"muz\"\u001b[0m\u001b[1;33m,\u001b[0m\u001b[1;34m\"smh\"\u001b[0m\u001b[1;33m,\u001b[0m \u001b[1;34m\"arc\"\u001b[0m\u001b[1;33m,\u001b[0m \u001b[1;34m\"dec\"\u001b[0m\u001b[1;33m,\u001b[0m \u001b[1;34m\"wes\"\u001b[0m\u001b[1;33m,\u001b[0m \u001b[1;34m\"ces\"\u001b[0m\u001b[1;33m,\u001b[0m \u001b[1;34m\"scb\"\u001b[0m\u001b[1;33m,\u001b[0m \u001b[1;34m\"sbp\"\u001b[0m\u001b[1;33m,\u001b[0m\u001b[1;33m)\u001b[0m\u001b[1;33m\u001b[0m\u001b[1;33m\u001b[0m\u001b[0m\n\u001b[0;32m      7\u001b[0m \u001b[0mprint\u001b[0m \u001b[1;33m(\u001b[0m\u001b[0mtup\u001b[0m\u001b[1;33m)\u001b[0m\u001b[1;33m\u001b[0m\u001b[1;33m\u001b[0m\u001b[0m\n\u001b[1;32m----> 8\u001b[1;33m \u001b[0mtup\u001b[0m\u001b[1;33m.\u001b[0m\u001b[0mappend\u001b[0m\u001b[1;33m(\u001b[0m\u001b[1;34m\"car\"\u001b[0m\u001b[1;33m)\u001b[0m\u001b[1;33m\u001b[0m\u001b[1;33m\u001b[0m\u001b[0m\n\u001b[0m",
      "\u001b[1;31mAttributeError\u001b[0m: 'tuple' object has no attribute 'append'"
     ]
    }
   ],
   "source": [
    "# tuple\n",
    "\n",
    "# Tuples is just like a list with some diffrences\n",
    "# List values is placed in square brackets but tuple values is placed in round brackets\n",
    "\n",
    "tup = (\"muz\",\"smh\", \"arc\", \"dec\", \"wes\", \"ces\", \"scb\", \"sbp\",)\n",
    "print (tup)\n",
    "tup.append(\"car\")"
   ]
  },
  {
   "cell_type": "code",
   "execution_count": 81,
   "metadata": {},
   "outputs": [
    {
     "name": "stdout",
     "output_type": "stream",
     "text": [
      "('muz', 'smh', 'arc')\n",
      "('wes', 'ces', 'scb')\n",
      "('wes', 'ces', 'scb')\n",
      "1\n",
      "3\n"
     ]
    }
   ],
   "source": [
    "print(tup[:3]) ;print(tup[4:7]) ; tup_Dup = tup[4:7]; print (tup_Dup);print(tup.count(\"dec\"));print(tup.index(\"dec\"))"
   ]
  },
  {
   "cell_type": "code",
   "execution_count": 24,
   "metadata": {},
   "outputs": [
    {
     "name": "stdout",
     "output_type": "stream",
     "text": [
      "muz\n",
      "smh\n",
      "arc\n",
      "dec\n",
      "wes\n",
      "ces\n"
     ]
    }
   ],
   "source": [
    "for elements in tup:\n",
    "    print (elements)\n",
    "    if elements == \"ces\": break"
   ]
  },
  {
   "cell_type": "code",
   "execution_count": 34,
   "metadata": {},
   "outputs": [
    {
     "name": "stdout",
     "output_type": "stream",
     "text": [
      "a_1,a_2,a_3,a_4,a_5,b_1,b_2,b_3,b_4,b_5,"
     ]
    }
   ],
   "source": [
    "L1 = [\"a\",\"b\"]\n",
    "L2 = [1,2,3,4,5]\n",
    "\n",
    "for dat1 in L1:\n",
    "    for dat2 in L2:\n",
    "        print (dat1+\"_\"+str(dat2),end=\",\")\n",
    "        \n"
   ]
  },
  {
   "cell_type": "code",
   "execution_count": 4,
   "metadata": {},
   "outputs": [
    {
     "name": "stdout",
     "output_type": "stream",
     "text": [
      "['a', 'b']\n"
     ]
    }
   ],
   "source": [
    "print (L1)"
   ]
  },
  {
   "cell_type": "code",
   "execution_count": 19,
   "metadata": {},
   "outputs": [],
   "source": [
    "L1= [\"hasan syed\",\"muzammil hasan\",\"farooq Mohammad\"]"
   ]
  },
  {
   "cell_type": "code",
   "execution_count": 20,
   "metadata": {},
   "outputs": [
    {
     "name": "stdout",
     "output_type": "stream",
     "text": [
      "['hasan syed', 'muzammil hasan', 'farooq Mohammad']\n"
     ]
    }
   ],
   "source": [
    "print(L1)"
   ]
  },
  {
   "cell_type": "code",
   "execution_count": 90,
   "metadata": {},
   "outputs": [
    {
     "name": "stdout",
     "output_type": "stream",
     "text": [
      "['hasan', 'muzammil', 'farooq', 'hasan1']\n",
      "['hasan', 'muzammil', 'farooq', 'hasan1', 'hasan1']\n",
      "['hasan', 'muzammil', 'farooq', 'hasan1', 'hasan1']\n"
     ]
    }
   ],
   "source": [
    "\n",
    "L2=L1 ;print (L2); L2.insert(41,\"hasan1\");print(L1);print(L2)"
   ]
  },
  {
   "cell_type": "code",
   "execution_count": 92,
   "metadata": {},
   "outputs": [
    {
     "name": "stdout",
     "output_type": "stream",
     "text": [
      "['hasan', 'muzammil', 'farooq', 'hasan1', 'hasan1']\n"
     ]
    }
   ],
   "source": [
    "print (L1)"
   ]
  },
  {
   "cell_type": "code",
   "execution_count": 18,
   "metadata": {},
   "outputs": [
    {
     "name": "stdout",
     "output_type": "stream",
     "text": [
      "['hasan', 'muzammil', 'farooq']\n",
      "[]\n"
     ]
    }
   ],
   "source": [
    "L2=L1.copy() # making a copy\n",
    "print (L2)\n",
    "L2.clear()\n",
    "print (L2)"
   ]
  },
  {
   "cell_type": "code",
   "execution_count": 21,
   "metadata": {},
   "outputs": [
    {
     "name": "stdout",
     "output_type": "stream",
     "text": [
      "['hasan syed', 'muzammil hasan', 'farooq Mohammad']\n",
      "['syed']\n"
     ]
    }
   ],
   "source": [
    "L2.append(\"syed\") ;print (L1); print(L2) # No impact on the original list"
   ]
  },
  {
   "cell_type": "code",
   "execution_count": 31,
   "metadata": {},
   "outputs": [
    {
     "name": "stdout",
     "output_type": "stream",
     "text": [
      "['muzammil', 'farooq']\n"
     ]
    }
   ],
   "source": [
    "L1.remove(\"hasan\")\n",
    "print(L1)\n"
   ]
  },
  {
   "cell_type": "code",
   "execution_count": 41,
   "metadata": {},
   "outputs": [
    {
     "name": "stdout",
     "output_type": "stream",
     "text": [
      "Enter your name: hasan\n"
     ]
    },
    {
     "data": {
      "text/plain": [
       "'hasan'"
      ]
     },
     "execution_count": 41,
     "metadata": {},
     "output_type": "execute_result"
    }
   ],
   "source": [
    "input2 = input(\"Enter your name: \")\n",
    "input2.lower()  # it does not need to be placed in a variable"
   ]
  },
  {
   "cell_type": "code",
   "execution_count": 22,
   "metadata": {},
   "outputs": [
    {
     "data": {
      "text/plain": [
       "'hasan syed'"
      ]
     },
     "execution_count": 22,
     "metadata": {},
     "output_type": "execute_result"
    }
   ],
   "source": [
    "L1[0].lower()"
   ]
  },
  {
   "cell_type": "code",
   "execution_count": 23,
   "metadata": {},
   "outputs": [
    {
     "data": {
      "text/plain": [
       "'Hasan Syed'"
      ]
     },
     "execution_count": 23,
     "metadata": {},
     "output_type": "execute_result"
    }
   ],
   "source": [
    "L1[0].title()"
   ]
  },
  {
   "cell_type": "code",
   "execution_count": 24,
   "metadata": {},
   "outputs": [
    {
     "data": {
      "text/plain": [
       "'HASAN SYED'"
      ]
     },
     "execution_count": 24,
     "metadata": {},
     "output_type": "execute_result"
    }
   ],
   "source": [
    "L1[0].upper()"
   ]
  },
  {
   "cell_type": "code",
   "execution_count": 25,
   "metadata": {},
   "outputs": [
    {
     "data": {
      "text/plain": [
       "'muzammil hasan'"
      ]
     },
     "execution_count": 25,
     "metadata": {},
     "output_type": "execute_result"
    }
   ],
   "source": [
    "L1[1].lower()"
   ]
  },
  {
   "cell_type": "code",
   "execution_count": 26,
   "metadata": {},
   "outputs": [
    {
     "data": {
      "text/plain": [
       "'FAROOQ mOHAMMAD'"
      ]
     },
     "execution_count": 26,
     "metadata": {},
     "output_type": "execute_result"
    }
   ],
   "source": [
    "L1[2].swapcase()"
   ]
  },
  {
   "cell_type": "code",
   "execution_count": 27,
   "metadata": {},
   "outputs": [
    {
     "data": {
      "text/plain": [
       "'Farooq mohammad'"
      ]
     },
     "execution_count": 27,
     "metadata": {},
     "output_type": "execute_result"
    }
   ],
   "source": [
    "L1[2].capitalize()"
   ]
  },
  {
   "cell_type": "code",
   "execution_count": 28,
   "metadata": {},
   "outputs": [
    {
     "data": {
      "text/plain": [
       "'Farooq Mohammad'"
      ]
     },
     "execution_count": 28,
     "metadata": {},
     "output_type": "execute_result"
    }
   ],
   "source": [
    "L1[2].title()"
   ]
  },
  {
   "cell_type": "code",
   "execution_count": 13,
   "metadata": {},
   "outputs": [
    {
     "name": "stdout",
     "output_type": "stream",
     "text": [
      "hasan hasan hasan \n"
     ]
    }
   ],
   "source": [
    "print('hasan '*3)"
   ]
  },
  {
   "cell_type": "code",
   "execution_count": 30,
   "metadata": {},
   "outputs": [
    {
     "name": "stdout",
     "output_type": "stream",
     "text": [
      "0,2,4,6,8,10,12,14,16,18,20,22,24,26,28,30,32,34,36,38,40,42,44,46,48,50,52,54,56,58,60,62,64,66,68,70,72,74,76,78,80,82,84,86,88,90,92,94,96,98,"
     ]
    }
   ],
   "source": [
    "# print even numbers only\n",
    "for i in range(0,100,2):\n",
    "    print (i,end=\",\")"
   ]
  },
  {
   "cell_type": "code",
   "execution_count": 31,
   "metadata": {},
   "outputs": [
    {
     "name": "stdout",
     "output_type": "stream",
     "text": [
      "\f",
      "\n"
     ]
    }
   ],
   "source": [
    "cls"
   ]
  },
  {
   "cell_type": "code",
   "execution_count": 20,
   "metadata": {},
   "outputs": [
    {
     "name": "stdout",
     "output_type": "stream",
     "text": [
      "*\n",
      "**\n",
      "***\n",
      "****\n",
      "*****\n",
      "******\n",
      "*******\n",
      "********\n",
      "*********\n"
     ]
    }
   ],
   "source": [
    "for i in range (1,10):\n",
    "    print(i*\"*\")"
   ]
  },
  {
   "cell_type": "code",
   "execution_count": 26,
   "metadata": {},
   "outputs": [
    {
     "name": "stdout",
     "output_type": "stream",
     "text": [
      "range(0, 10, 2)\n",
      "[]\n"
     ]
    }
   ],
   "source": [
    "list1=range(0,10,2); print(list1);list2 = list();print(list2)"
   ]
  },
  {
   "cell_type": "code",
   "execution_count": 44,
   "metadata": {},
   "outputs": [
    {
     "name": "stdout",
     "output_type": "stream",
     "text": [
      "[0, 2, 4, 6, 8]\n",
      "0\n",
      "8\n",
      "8\n",
      "[0, 2, 4]\n"
     ]
    }
   ],
   "source": [
    "list1=list(range(0,10,2)); print(list1);print(list1[0]);print(list1[-1]);print(max(list1));print(list1[:-2])"
   ]
  },
  {
   "cell_type": "code",
   "execution_count": 30,
   "metadata": {},
   "outputs": [
    {
     "name": "stdout",
     "output_type": "stream",
     "text": [
      "['h', 'e', 'l', 'l', 'o']\n",
      "5\n",
      "o\n"
     ]
    }
   ],
   "source": [
    "print(list(\"hello\")); print(len(list(\"hello\")));print(max(list(\"hello\")))"
   ]
  },
  {
   "cell_type": "code",
   "execution_count": 32,
   "metadata": {},
   "outputs": [
    {
     "name": "stdout",
     "output_type": "stream",
     "text": [
      "None\n"
     ]
    }
   ],
   "source": [
    "import random\n",
    "\n",
    "print(random.shuffle([\"hi\",\"gt\",\"ty\"]))"
   ]
  },
  {
   "cell_type": "code",
   "execution_count": 29,
   "metadata": {},
   "outputs": [
    {
     "name": "stdout",
     "output_type": "stream",
     "text": [
      "0,2,4,6,8,"
     ]
    }
   ],
   "source": [
    "for i in list1:\n",
    "    print(i,end=\",\")"
   ]
  },
  {
   "cell_type": "code",
   "execution_count": 6,
   "metadata": {},
   "outputs": [
    {
     "name": "stdout",
     "output_type": "stream",
     "text": [
      "the loop broke\n"
     ]
    }
   ],
   "source": [
    "for i in range (0,10):\n",
    "    if i==5:\n",
    "        break\n",
    "else:\n",
    "    print(\"The loop run fine completely\")\n",
    "print(\"the loop broke\")\n",
    "    "
   ]
  },
  {
   "cell_type": "code",
   "execution_count": 4,
   "metadata": {},
   "outputs": [
    {
     "name": "stdout",
     "output_type": "stream",
     "text": [
      "The loop run fine completely\n"
     ]
    }
   ],
   "source": [
    "for i in range (0,10):\n",
    "    if i==11:\n",
    "        break\n",
    "else:\n",
    "    print(\"The loop run fine completely\")"
   ]
  },
  {
   "cell_type": "code",
   "execution_count": 7,
   "metadata": {},
   "outputs": [
    {
     "name": "stdout",
     "output_type": "stream",
     "text": [
      "here i am\n"
     ]
    }
   ],
   "source": [
    "for i in range (10):\n",
    "    if i!=5:\n",
    "        break\n",
    "    else:\n",
    "        print (i)\n",
    "else:\n",
    "    print (\"here\")\n",
    "print(\"here i am\")    "
   ]
  },
  {
   "cell_type": "code",
   "execution_count": 41,
   "metadata": {},
   "outputs": [
    {
     "name": "stdout",
     "output_type": "stream",
     "text": [
      "0\n",
      "1\n",
      "2\n",
      "<class 'generator'>\n"
     ]
    }
   ],
   "source": [
    "x= (x for x in range(3))\n",
    "for i in x:\n",
    "    print(i)\n",
    "print(type(x))"
   ]
  },
  {
   "cell_type": "code",
   "execution_count": 13,
   "metadata": {},
   "outputs": [
    {
     "name": "stdout",
     "output_type": "stream",
     "text": [
      "my name is muzammil\n",
      "my\n",
      "name\n",
      "is\n",
      "muzammil\n"
     ]
    }
   ],
   "source": [
    "sentence = \"my name is muzammil\"\n",
    "print(sentence)\n",
    "for i in sentence.split():\n",
    "    print(i)"
   ]
  },
  {
   "cell_type": "code",
   "execution_count": 44,
   "metadata": {},
   "outputs": [
    {
     "name": "stdout",
     "output_type": "stream",
     "text": [
      "0\n",
      "1\n",
      "2\n",
      "3\n"
     ]
    }
   ],
   "source": [
    "a=[0,1,2,3]\n",
    "i=-2\n",
    "for i  in a:\n",
    "    print (i)\n",
    "    i+=1\n"
   ]
  },
  {
   "cell_type": "code",
   "execution_count": 35,
   "metadata": {},
   "outputs": [
    {
     "name": "stdout",
     "output_type": "stream",
     "text": [
      "2\n",
      "{2: 'hi', 1: [1, 2, 3]}\n"
     ]
    }
   ],
   "source": [
    "a={}\n",
    "a[2] =\"hi\"\n",
    "a[1] =[1,2,3,]\n",
    "print(a[1][1])\n",
    "print(a)"
   ]
  },
  {
   "cell_type": "code",
   "execution_count": 39,
   "metadata": {},
   "outputs": [
    {
     "name": "stdout",
     "output_type": "stream",
     "text": [
      "{1: 'A', 2: 'B', 3: 'C', 4: 'D'}\n",
      "{}\n"
     ]
    }
   ],
   "source": [
    "a={1:\"A\",2:\"B\"}\n",
    "b={3:\"C\",4:\"D\"}\n",
    "a.update(b)\n",
    "print(a)\n",
    "a.clear()\n",
    "print(a)"
   ]
  },
  {
   "cell_type": "code",
   "execution_count": 36,
   "metadata": {},
   "outputs": [
    {
     "name": "stdout",
     "output_type": "stream",
     "text": [
      "0\n",
      "2\n",
      "4\n",
      "6\n",
      "8\n"
     ]
    }
   ],
   "source": [
    "for i in range(len(list1)):    print(list1[i])"
   ]
  },
  {
   "cell_type": "code",
   "execution_count": 38,
   "metadata": {},
   "outputs": [
    {
     "name": "stdout",
     "output_type": "stream",
     "text": [
      "6\n",
      "0\n",
      "4\n",
      "8\n"
     ]
    }
   ],
   "source": [
    "for i in range(-2,len(list1),2):\n",
    "    print(list1[i])"
   ]
  },
  {
   "cell_type": "code",
   "execution_count": 3,
   "metadata": {},
   "outputs": [
    {
     "name": "stdout",
     "output_type": "stream",
     "text": [
      "s\n"
     ]
    },
    {
     "data": {
      "text/plain": [
       "'n'"
      ]
     },
     "execution_count": 3,
     "metadata": {},
     "output_type": "execute_result"
    }
   ],
   "source": [
    "st= \"string\"\n",
    "print(st[0]) # string is also a list\n",
    "st[4]"
   ]
  },
  {
   "cell_type": "code",
   "execution_count": 2,
   "metadata": {},
   "outputs": [
    {
     "name": "stdout",
     "output_type": "stream",
     "text": [
      "25\n",
      "[2]\n",
      "[222, 14, 25]\n",
      "[2, 33, 222, 14, 25]\n",
      "[2, 33, 222, 14, 25, 2, 33, 222, 14, 25]\n"
     ]
    }
   ],
   "source": [
    "l1= [2, 33, 222, 14, 25] ; print(l1[-1]); print(l1[:-4]);print(l1[2:5]);print(l1[:]);print(l1*2)"
   ]
  },
  {
   "cell_type": "code",
   "execution_count": 4,
   "metadata": {},
   "outputs": [
    {
     "name": "stdout",
     "output_type": "stream",
     "text": [
      "[0.0, 0.5, 1.0, 1.5]\n"
     ]
    }
   ],
   "source": [
    "print([0.5 *x for x in range(0,4)])"
   ]
  },
  {
   "cell_type": "code",
   "execution_count": 5,
   "metadata": {},
   "outputs": [
    {
     "name": "stdout",
     "output_type": "stream",
     "text": [
      "['Amir', 'Bear1', 'Charlton Hudston', 'Daman']\n"
     ]
    }
   ],
   "source": [
    "names1 = ['Amir', 'Bear', 'Charlton Hudston', 'Daman']\n",
    "names2 = names1\n",
    "names2[1]=\"Bear1\"\n",
    "print(names1)"
   ]
  },
  {
   "cell_type": "code",
   "execution_count": 9,
   "metadata": {},
   "outputs": [
    {
     "name": "stdout",
     "output_type": "stream",
     "text": [
      "False\n"
     ]
    }
   ],
   "source": [
    "print([11,222,25]<[11,2,25])"
   ]
  },
  {
   "cell_type": "code",
   "execution_count": 12,
   "metadata": {},
   "outputs": [
    {
     "name": "stdout",
     "output_type": "stream",
     "text": [
      "Charlton Hudston\n",
      "Charlton hudston\n"
     ]
    }
   ],
   "source": [
    "print(names1[2].title())\n",
    "print(names1[2].capitalize())"
   ]
  },
  {
   "cell_type": "code",
   "execution_count": 55,
   "metadata": {},
   "outputs": [
    {
     "name": "stdout",
     "output_type": "stream",
     "text": [
      "['Amir', 'Bear', 'Charlton', 'Daman']\n"
     ]
    }
   ],
   "source": [
    "names1 = ['Amir', 'Bear', 'Charlton', 'Daman']\n",
    "names2 = names1[:]\n",
    "names2[1]=\"Bear1\"\n",
    "print(names1)"
   ]
  },
  {
   "cell_type": "code",
   "execution_count": 25,
   "metadata": {},
   "outputs": [
    {
     "name": "stdout",
     "output_type": "stream",
     "text": [
      "5\n",
      "[1, 2, 3, 4, [5, 6, 7, 8]]\n"
     ]
    }
   ],
   "source": [
    "numbers = [1, 2, 3, 4]\n",
    "numbers.append([5,6,7,8])\n",
    "print(len(numbers))\n",
    "print(numbers)"
   ]
  },
  {
   "cell_type": "code",
   "execution_count": 27,
   "metadata": {},
   "outputs": [
    {
     "name": "stdout",
     "output_type": "stream",
     "text": [
      "8\n",
      "[1, 2, 3, 4, 5, 6, 7, 8]\n"
     ]
    }
   ],
   "source": [
    "list1 = [1, 2, 3, 4]\n",
    "list2 = [5, 6, 7, 8]\n",
    "print(len(list1 + list2))\n",
    "print(list1 + list2)"
   ]
  },
  {
   "cell_type": "code",
   "execution_count": 36,
   "metadata": {},
   "outputs": [
    {
     "name": "stdout",
     "output_type": "stream",
     "text": [
      "[1, 2, 3, 4]\n",
      "None\n",
      "[1, 2, 3, 4]\n",
      "[1, 2, 3, 4]\n",
      "[1, 2, 3, 4]\n",
      "[1, 2, 3, 4]\n"
     ]
    },
    {
     "data": {
      "text/plain": [
       "False"
      ]
     },
     "execution_count": 36,
     "metadata": {},
     "output_type": "execute_result"
    }
   ],
   "source": [
    "a=[1,2,3]\n",
    "b=a.append(4)\n",
    "\n",
    "print(a)\n",
    "print(b)\n",
    "\n",
    "b=a\n",
    "print(a)\n",
    "print(b)\n",
    "\n",
    "\n",
    "b=a.copy()\n",
    "print(a)\n",
    "print(b)\n",
    "\n",
    "b is a"
   ]
  },
  {
   "cell_type": "code",
   "execution_count": 37,
   "metadata": {},
   "outputs": [
    {
     "name": "stdout",
     "output_type": "stream",
     "text": [
      "[13, 56, 17, [87], 45, 67]\n"
     ]
    }
   ],
   "source": [
    "a=[13,56,17] \n",
    "a.append([87]) \n",
    "a.extend([45,67]) \n",
    "print(a)\n"
   ]
  },
  {
   "cell_type": "code",
   "execution_count": 40,
   "metadata": {},
   "outputs": [
    {
     "name": "stdout",
     "output_type": "stream",
     "text": [
      "180\n",
      "180\n",
      "hihihihi\n",
      "[45, 45, 45, 45]\n"
     ]
    }
   ],
   "source": [
    "a=list((45,)*4)\n",
    "print((45)*4); print(45*4);print(\"hi\"*4)\n",
    "print(a)"
   ]
  },
  {
   "cell_type": "code",
   "execution_count": 41,
   "metadata": {},
   "outputs": [
    {
     "name": "stdout",
     "output_type": "stream",
     "text": [
      "True\n",
      "False\n"
     ]
    }
   ],
   "source": [
    "word1=\"Apple\" \n",
    "word2=\"Apple\" \n",
    "list1=[1,2,3] \n",
    "list2=[1,2,3] \n",
    "print(word1 is word2) \n",
    "print(list1 is list2)\n"
   ]
  },
  {
   "cell_type": "code",
   "execution_count": 75,
   "metadata": {},
   "outputs": [
    {
     "name": "stdout",
     "output_type": "stream",
     "text": [
      "12\n"
     ]
    }
   ],
   "source": [
    "\n",
    "names1 = ['Amir', 'Bear', 'Charlton', 'Daman']\n",
    "names2 = names1\n",
    "names3 = names1[:]\n",
    "\n",
    "names2[0] = 'Alice'\n",
    "names3[1] = 'Bob'\n",
    "\n",
    "\n",
    "sum1 = 0\n",
    "for ls in (names1, names2, names3) :\n",
    "    if ls[0] == 'Alice':\n",
    "       sum1 += 1\n",
    "    if ls[1] == 'Bob':\n",
    "       sum1 += 10\n",
    "\n",
    "print(sum1)\n",
    "\n"
   ]
  },
  {
   "cell_type": "code",
   "execution_count": 43,
   "metadata": {},
   "outputs": [
    {
     "name": "stdout",
     "output_type": "stream",
     "text": [
      "['e', 'o']\n"
     ]
    }
   ],
   "source": [
    "w=\"hello\" \n",
    "v=('a', 'e', 'i', 'o', 'u')\n",
    "\n",
    "l1=[x for x in w if x in v]\n",
    "print(l1)"
   ]
  },
  {
   "cell_type": "code",
   "execution_count": 66,
   "metadata": {},
   "outputs": [
    {
     "name": "stdout",
     "output_type": "stream",
     "text": [
      "n\n"
     ]
    }
   ],
   "source": [
    "names = ['Amir', 'Bear', 'Charlton', 'Daman']\n",
    "print(names[-1][-1])"
   ]
  },
  {
   "cell_type": "code",
   "execution_count": 14,
   "metadata": {},
   "outputs": [
    {
     "ename": "TypeError",
     "evalue": "'float' object is not iterable",
     "output_type": "error",
     "traceback": [
      "\u001b[1;31m---------------------------------------------------------------------------\u001b[0m",
      "\u001b[1;31mTypeError\u001b[0m                                 Traceback (most recent call last)",
      "\u001b[1;32m<ipython-input-14-028226f99de4>\u001b[0m in \u001b[0;36m<module>\u001b[1;34m\u001b[0m\n\u001b[0;32m      1\u001b[0m \u001b[0mt\u001b[0m\u001b[1;33m=\u001b[0m\u001b[1;36m32.00\u001b[0m\u001b[1;33m\u001b[0m\u001b[1;33m\u001b[0m\u001b[0m\n\u001b[1;32m----> 2\u001b[1;33m \u001b[0mprint\u001b[0m\u001b[1;33m(\u001b[0m\u001b[1;33m[\u001b[0m\u001b[0mround\u001b[0m\u001b[1;33m(\u001b[0m\u001b[1;33m(\u001b[0m\u001b[0mx\u001b[0m\u001b[1;33m-\u001b[0m\u001b[1;36m32\u001b[0m\u001b[1;33m)\u001b[0m\u001b[1;33m*\u001b[0m\u001b[1;36m5\u001b[0m\u001b[1;33m/\u001b[0m\u001b[1;36m9\u001b[0m\u001b[1;33m)\u001b[0m \u001b[1;32mfor\u001b[0m \u001b[0mx\u001b[0m \u001b[1;32min\u001b[0m \u001b[0mt\u001b[0m\u001b[1;33m]\u001b[0m\u001b[1;33m)\u001b[0m\u001b[1;33m\u001b[0m\u001b[1;33m\u001b[0m\u001b[0m\n\u001b[0m",
      "\u001b[1;31mTypeError\u001b[0m: 'float' object is not iterable"
     ]
    }
   ],
   "source": [
    "t=32.00\n",
    "print([round((x-32)*5/9) for x in t])\n"
   ]
  },
  {
   "cell_type": "code",
   "execution_count": 19,
   "metadata": {},
   "outputs": [
    {
     "data": {
      "text/plain": [
       "[0, 1, 4, 9, 16, 25, 36, 49, 64, 81, 100, 121, 144]"
      ]
     },
     "execution_count": 19,
     "metadata": {},
     "output_type": "execute_result"
    }
   ],
   "source": [
    "[(x**2) for x in range(0, 13)]   # list comprehension"
   ]
  },
  {
   "cell_type": "code",
   "execution_count": 20,
   "metadata": {},
   "outputs": [
    {
     "data": {
      "text/plain": [
       "[0, 2, 4, 6, 8, 10, 12, 14, 16, 18]"
      ]
     },
     "execution_count": 20,
     "metadata": {},
     "output_type": "execute_result"
    }
   ],
   "source": [
    "[x for x in range(0, 20) if (x%2==0)]"
   ]
  },
  {
   "cell_type": "code",
   "execution_count": 46,
   "metadata": {},
   "outputs": [
    {
     "name": "stdout",
     "output_type": "stream",
     "text": [
      "[2, 4, 6, 8, 10, 12, 14, 16, 18, 20, 22, 24, 26, 28, 30, 32, 34, 36, 38, 40, 42, 44, 46, 48, 50, 52, 54, 56, 58, 60, 62, 64, 66, 68, 70, 72, 74, 76, 78, 80, 82, 84, 86, 88, 90, 92, 94, 96, 98, 100]\n"
     ]
    }
   ],
   "source": [
    "print([i for i in range(1, 101) if int(i*0.5)==(i*0.5)])"
   ]
  },
  {
   "cell_type": "code",
   "execution_count": 22,
   "metadata": {},
   "outputs": [
    {
     "name": "stdout",
     "output_type": "stream",
     "text": [
      "hi\n"
     ]
    }
   ],
   "source": [
    "# [j for i in range(2,8) for j in range(i*2, 50, i)]\n",
    "print(\"hi\")"
   ]
  },
  {
   "cell_type": "code",
   "execution_count": 52,
   "metadata": {},
   "outputs": [
    {
     "name": "stdout",
     "output_type": "stream",
     "text": [
      "16\n",
      "[1, 4, 9, 16, 25, 36, 49, 64, 81, 100, 121, 144]\n"
     ]
    }
   ],
   "source": [
    "print(2**4);print([(x**2) for x in range(1, 13)])"
   ]
  },
  {
   "cell_type": "code",
   "execution_count": 1,
   "metadata": {},
   "outputs": [
    {
     "name": "stdout",
     "output_type": "stream",
     "text": [
      "muzammil\n"
     ]
    }
   ],
   "source": [
    "print (\"muzammil\")"
   ]
  },
  {
   "cell_type": "code",
   "execution_count": 11,
   "metadata": {},
   "outputs": [
    {
     "name": "stdout",
     "output_type": "stream",
     "text": [
      "[1, 2, 3, 4, 5, 6, 7, 8]\n",
      "['a', 'b', 'c']\n",
      "1a1b1c2a2b2c3a3b3c4a4b4c5a5b5c6a6b6c7a7b7c8a8b8c"
     ]
    }
   ],
   "source": [
    "list1 = [1,2,3,4,5,6,7,8]\n",
    "list2 = [\"a\",\"b\",\"c\"]\n",
    "print (list1)\n",
    "print (list2)\n",
    "for l1 in list1:\n",
    "    for l2 in list2:\n",
    "        print (str(l1)+l2,end=\"\")"
   ]
  },
  {
   "cell_type": "code",
   "execution_count": 51,
   "metadata": {},
   "outputs": [
    {
     "name": "stdout",
     "output_type": "stream",
     "text": [
      "{'name': 'muzammil', 'rank': 4, 0: 'zero', 'ID': 420.558, 58: 'its a code', 68.2: 'its another code'}\n"
     ]
    }
   ],
   "source": [
    "# Dictionary is just like an advance form of list. In list every  value has an index Number but in Dictionary there is a\n",
    "# Key-value pair\n",
    "\n",
    "dict1 = {\n",
    "         \"name\": \"muzammil\", \n",
    "         \"rank\" : 4,\n",
    "         0: \"zero\",\n",
    "         \"ID\":420.558,\n",
    "         58:\"its a code\",\n",
    "         68.2: \"its another code\"\n",
    "         }\n",
    "print (dict1)"
   ]
  },
  {
   "cell_type": "code",
   "execution_count": 14,
   "metadata": {},
   "outputs": [
    {
     "data": {
      "text/plain": [
       "[1, 2, 3, 4, 5, 6, 7, 8]"
      ]
     },
     "execution_count": 14,
     "metadata": {},
     "output_type": "execute_result"
    }
   ],
   "source": [
    "list1"
   ]
  },
  {
   "cell_type": "code",
   "execution_count": 15,
   "metadata": {},
   "outputs": [
    {
     "data": {
      "text/plain": [
       "{'name': 'muzammil', 'rank': 2}"
      ]
     },
     "execution_count": 15,
     "metadata": {},
     "output_type": "execute_result"
    }
   ],
   "source": [
    "dict1"
   ]
  },
  {
   "cell_type": "code",
   "execution_count": 17,
   "metadata": {},
   "outputs": [
    {
     "name": "stdout",
     "output_type": "stream",
     "text": [
      "2\n"
     ]
    }
   ],
   "source": [
    "rank1 = dict1[\"rank\"]\n",
    "print(rank1)"
   ]
  },
  {
   "cell_type": "code",
   "execution_count": 21,
   "metadata": {},
   "outputs": [
    {
     "name": "stdout",
     "output_type": "stream",
     "text": [
      "its another code\n",
      "its a code\n"
     ]
    }
   ],
   "source": [
    "print (dict1[68.2]);print (dict1[58])"
   ]
  },
  {
   "cell_type": "code",
   "execution_count": 27,
   "metadata": {},
   "outputs": [
    {
     "name": "stdout",
     "output_type": "stream",
     "text": [
      "muzammil\n",
      "{'name': 'hasan', 'rank': 4, 0: 'zero', 'ID': 420.558, 58: 'its a code', 68.2: 'its another code'}\n",
      "{'name': 'hasan', 'rank': 4, 0: 'zero', 'ID': 420.558, 58: 'its a code', 68.2: 'its another code'}\n"
     ]
    }
   ],
   "source": [
    "dict2 = dict1\n",
    "name = dict2[\"name\"]; print (name)\n",
    "dict2[\"name\"]=\"hasan\"\n",
    "print (dict1); print(dict2)"
   ]
  },
  {
   "cell_type": "code",
   "execution_count": 76,
   "metadata": {},
   "outputs": [
    {
     "data": {
      "text/plain": [
       "{'name': 'Syed', 0: 'Waqar', 1: 'Mujtaba', 2: 'Muzammil'}"
      ]
     },
     "execution_count": 76,
     "metadata": {},
     "output_type": "execute_result"
    }
   ],
   "source": [
    "dict4={}\n",
    "dict4[\"name\"]=\"Syed\"\n",
    "dict4[0]=\"Waqar\"\n",
    "dict4[1]=\"Mujtaba\"\n",
    "dict4[2]=\"Muzammil\"\n",
    "dict4"
   ]
  },
  {
   "cell_type": "code",
   "execution_count": 2,
   "metadata": {},
   "outputs": [
    {
     "data": {
      "text/plain": [
       "{'name': 'Syed', 1: 'Mujtaba', 2: 'Muzammil'}"
      ]
     },
     "execution_count": 2,
     "metadata": {},
     "output_type": "execute_result"
    }
   ],
   "source": [
    "del dict4[0]\n",
    "dict4"
   ]
  },
  {
   "cell_type": "code",
   "execution_count": 3,
   "metadata": {},
   "outputs": [
    {
     "data": {
      "text/plain": [
       "{'name': 'Syed', 1: 'Mujtaba Hasan', 2: 'Muzammil'}"
      ]
     },
     "execution_count": 3,
     "metadata": {},
     "output_type": "execute_result"
    }
   ],
   "source": [
    "dict4[1]=\"Mujtaba Hasan\"\n",
    "dict4"
   ]
  },
  {
   "cell_type": "code",
   "execution_count": 5,
   "metadata": {},
   "outputs": [
    {
     "name": "stdout",
     "output_type": "stream",
     "text": [
      "name\n",
      "1\n",
      "2\n"
     ]
    }
   ],
   "source": [
    "    for i in dict4:\n",
    "        print (i)"
   ]
  },
  {
   "cell_type": "code",
   "execution_count": 47,
   "metadata": {},
   "outputs": [
    {
     "name": "stdout",
     "output_type": "stream",
     "text": [
      "Syed\n",
      "Waqar\n",
      "Mujtaba\n",
      "Muzammil\n"
     ]
    }
   ],
   "source": [
    "for i in dict4.values():\n",
    "    print (i)"
   ]
  },
  {
   "cell_type": "code",
   "execution_count": 8,
   "metadata": {},
   "outputs": [
    {
     "data": {
      "text/plain": [
       "dict_keys(['name', 1, 2])"
      ]
     },
     "execution_count": 8,
     "metadata": {},
     "output_type": "execute_result"
    }
   ],
   "source": [
    "dict4.keys()"
   ]
  },
  {
   "cell_type": "code",
   "execution_count": 48,
   "metadata": {},
   "outputs": [
    {
     "data": {
      "text/plain": [
       "dict_values(['Syed', 'Waqar', 'Mujtaba', 'Muzammil'])"
      ]
     },
     "execution_count": 48,
     "metadata": {},
     "output_type": "execute_result"
    }
   ],
   "source": [
    "dict4.values()"
   ]
  },
  {
   "cell_type": "code",
   "execution_count": 9,
   "metadata": {},
   "outputs": [
    {
     "name": "stdout",
     "output_type": "stream",
     "text": [
      "name   :   Syed\n",
      "1   :   Mujtaba Hasan\n",
      "2   :   Muzammil\n"
     ]
    }
   ],
   "source": [
    "for K, V in dict4.items():\n",
    "    print (str(K)+\"   :   \"+str(V))"
   ]
  },
  {
   "cell_type": "code",
   "execution_count": 13,
   "metadata": {},
   "outputs": [
    {
     "name": "stdout",
     "output_type": "stream",
     "text": [
      "name    :    Syed\n",
      "1    :    Mujtaba Hasan\n",
      "2    :    Muzammil\n"
     ]
    }
   ],
   "source": [
    "for K, V in dict4.items():\n",
    "    print (str(K),\"   :   \",str(V))"
   ]
  },
  {
   "cell_type": "code",
   "execution_count": 14,
   "metadata": {},
   "outputs": [],
   "source": [
    "dict3=dict1"
   ]
  },
  {
   "cell_type": "code",
   "execution_count": 15,
   "metadata": {},
   "outputs": [
    {
     "data": {
      "text/plain": [
       "{'name': 'muzammil',\n",
       " 'rank': 4,\n",
       " 0: 'zero',\n",
       " 'ID': 420.558,\n",
       " 58: 'its a code',\n",
       " 68.2: 'its another code'}"
      ]
     },
     "execution_count": 15,
     "metadata": {},
     "output_type": "execute_result"
    }
   ],
   "source": [
    "dict3"
   ]
  },
  {
   "cell_type": "code",
   "execution_count": 16,
   "metadata": {},
   "outputs": [],
   "source": [
    "dict3 ={\"ggg\":42342242}"
   ]
  },
  {
   "cell_type": "code",
   "execution_count": 17,
   "metadata": {},
   "outputs": [
    {
     "data": {
      "text/plain": [
       "{'ggg': 42342242}"
      ]
     },
     "execution_count": 17,
     "metadata": {},
     "output_type": "execute_result"
    }
   ],
   "source": [
    "dict3"
   ]
  },
  {
   "cell_type": "code",
   "execution_count": 21,
   "metadata": {},
   "outputs": [
    {
     "name": "stdout",
     "output_type": "stream",
     "text": [
      "muzammil\n"
     ]
    }
   ],
   "source": [
    "name = dict1[\"name\"]\n",
    "print(name)"
   ]
  },
  {
   "cell_type": "code",
   "execution_count": 18,
   "metadata": {},
   "outputs": [
    {
     "data": {
      "text/plain": [
       "{'name': 'muzammil',\n",
       " 'rank': 4,\n",
       " 0: 'zero',\n",
       " 'ID': 420.558,\n",
       " 58: 'its a code',\n",
       " 68.2: 'its another code'}"
      ]
     },
     "execution_count": 18,
     "metadata": {},
     "output_type": "execute_result"
    }
   ],
   "source": [
    "dict1"
   ]
  },
  {
   "cell_type": "code",
   "execution_count": 22,
   "metadata": {},
   "outputs": [],
   "source": [
    "dict1[254]=\"Hasan\""
   ]
  },
  {
   "cell_type": "code",
   "execution_count": 23,
   "metadata": {},
   "outputs": [
    {
     "data": {
      "text/plain": [
       "{'name': 'muzammil',\n",
       " 'rank': 4,\n",
       " 0: 'zero',\n",
       " 'ID': 420.558,\n",
       " 58: 'its a code',\n",
       " 68.2: 'its another code',\n",
       " 254: 'Hasan'}"
      ]
     },
     "execution_count": 23,
     "metadata": {},
     "output_type": "execute_result"
    }
   ],
   "source": [
    "dict1"
   ]
  },
  {
   "cell_type": "code",
   "execution_count": 25,
   "metadata": {},
   "outputs": [],
   "source": [
    "dict1[254]=\"waqar\""
   ]
  },
  {
   "cell_type": "code",
   "execution_count": 26,
   "metadata": {},
   "outputs": [
    {
     "data": {
      "text/plain": [
       "{'name': 'muzammil',\n",
       " 'rank': 4,\n",
       " 0: 'zero',\n",
       " 'ID': 420.558,\n",
       " 58: 'its a code',\n",
       " 68.2: 'its another code',\n",
       " 254: 'waqar'}"
      ]
     },
     "execution_count": 26,
     "metadata": {},
     "output_type": "execute_result"
    }
   ],
   "source": [
    "dict1"
   ]
  },
  {
   "cell_type": "code",
   "execution_count": 27,
   "metadata": {},
   "outputs": [],
   "source": [
    "dict1[254]=\"waqar\""
   ]
  },
  {
   "cell_type": "code",
   "execution_count": 28,
   "metadata": {},
   "outputs": [
    {
     "data": {
      "text/plain": [
       "{'name': 'muzammil',\n",
       " 'rank': 4,\n",
       " 0: 'zero',\n",
       " 'ID': 420.558,\n",
       " 58: 'its a code',\n",
       " 68.2: 'its another code',\n",
       " 254: 'waqar'}"
      ]
     },
     "execution_count": 28,
     "metadata": {},
     "output_type": "execute_result"
    }
   ],
   "source": [
    "dict1"
   ]
  },
  {
   "cell_type": "code",
   "execution_count": 66,
   "metadata": {},
   "outputs": [
    {
     "data": {
      "text/plain": [
       "{'name': 'muzammil',\n",
       " 'rank': 4,\n",
       " 0: 'zero',\n",
       " 'ID': 420.558,\n",
       " 58: 'its a code',\n",
       " 68.2: 'its another code',\n",
       " 'tttt': 'shhhhhh'}"
      ]
     },
     "execution_count": 66,
     "metadata": {},
     "output_type": "execute_result"
    }
   ],
   "source": [
    "dict1[\"tttt\"]=\"shhhhhh\"\n",
    "dict1"
   ]
  },
  {
   "cell_type": "code",
   "execution_count": 67,
   "metadata": {},
   "outputs": [],
   "source": [
    "del dict1[\"tttt\"]"
   ]
  },
  {
   "cell_type": "code",
   "execution_count": 68,
   "metadata": {},
   "outputs": [
    {
     "data": {
      "text/plain": [
       "{'name': 'muzammil',\n",
       " 'rank': 4,\n",
       " 0: 'zero',\n",
       " 'ID': 420.558,\n",
       " 58: 'its a code',\n",
       " 68.2: 'its another code'}"
      ]
     },
     "execution_count": 68,
     "metadata": {},
     "output_type": "execute_result"
    }
   ],
   "source": [
    "dict1\n"
   ]
  },
  {
   "cell_type": "code",
   "execution_count": 53,
   "metadata": {},
   "outputs": [],
   "source": [
    "l1=[]\n",
    "for i in range (0,5):\n",
    "    l1.append(dict1)"
   ]
  },
  {
   "cell_type": "code",
   "execution_count": 55,
   "metadata": {},
   "outputs": [
    {
     "name": "stdout",
     "output_type": "stream",
     "text": [
      "[{'name': 'muzammil', 'rank': 4, 0: 'zero', 'ID': 420.558, 58: 'its a code', 68.2: 'its another code'}, {'name': 'muzammil', 'rank': 4, 0: 'zero', 'ID': 420.558, 58: 'its a code', 68.2: 'its another code'}, {'name': 'muzammil', 'rank': 4, 0: 'zero', 'ID': 420.558, 58: 'its a code', 68.2: 'its another code'}, {'name': 'muzammil', 'rank': 4, 0: 'zero', 'ID': 420.558, 58: 'its a code', 68.2: 'its another code'}, {'name': 'muzammil', 'rank': 4, 0: 'zero', 'ID': 420.558, 58: 'its a code', 68.2: 'its another code'}]\n"
     ]
    }
   ],
   "source": [
    "print(l1)"
   ]
  },
  {
   "cell_type": "code",
   "execution_count": 45,
   "metadata": {},
   "outputs": [
    {
     "data": {
      "text/plain": [
       "{'name': 'muzammil',\n",
       " 'rank': 4,\n",
       " 0: 'zero',\n",
       " 'ID': 420.558,\n",
       " 58: 'its a code',\n",
       " 68.2: 'its another code',\n",
       " 254: 'waqar',\n",
       " 'muzammil': 'hasan'}"
      ]
     },
     "execution_count": 45,
     "metadata": {},
     "output_type": "execute_result"
    }
   ],
   "source": [
    "l1[0]"
   ]
  },
  {
   "cell_type": "code",
   "execution_count": 49,
   "metadata": {},
   "outputs": [],
   "source": [
    "l1[6][254]=\"dfasdfsfasfs\""
   ]
  },
  {
   "cell_type": "code",
   "execution_count": 47,
   "metadata": {},
   "outputs": [],
   "source": [
    "l1[1][\"name\"]=\"hasan\""
   ]
  },
  {
   "cell_type": "code",
   "execution_count": 48,
   "metadata": {},
   "outputs": [
    {
     "data": {
      "text/plain": [
       "{'name': 'hasan',\n",
       " 'rank': 4,\n",
       " 0: 'zero',\n",
       " 'ID': 420.558,\n",
       " 58: 'its a code',\n",
       " 68.2: 'its another code',\n",
       " 254: 'waqar',\n",
       " 'muzammil': 'hasan'}"
      ]
     },
     "execution_count": 48,
     "metadata": {},
     "output_type": "execute_result"
    }
   ],
   "source": [
    "l1[1]"
   ]
  },
  {
   "cell_type": "code",
   "execution_count": 53,
   "metadata": {},
   "outputs": [],
   "source": [
    "l1[6][\"muzammil1\"]=\"yyyyyyyy\""
   ]
  },
  {
   "cell_type": "code",
   "execution_count": 54,
   "metadata": {},
   "outputs": [
    {
     "data": {
      "text/plain": [
       "{'name': 'hasan',\n",
       " 'rank': 4,\n",
       " 0: 'zero',\n",
       " 'ID': 420.558,\n",
       " 58: 'its a code',\n",
       " 68.2: 'its another code',\n",
       " 254: 'dfasdfsfasfs',\n",
       " 'muzammil': 'hasan',\n",
       " 'muzammil1': 'yyyyyyyy'}"
      ]
     },
     "execution_count": 54,
     "metadata": {},
     "output_type": "execute_result"
    }
   ],
   "source": [
    "l1[6]"
   ]
  },
  {
   "cell_type": "code",
   "execution_count": 55,
   "metadata": {},
   "outputs": [],
   "source": [
    "l1[7]=l1[6]"
   ]
  },
  {
   "cell_type": "code",
   "execution_count": 69,
   "metadata": {},
   "outputs": [
    {
     "name": "stdout",
     "output_type": "stream",
     "text": [
      "[{'name': 'muzammil', 'rank': 4, 0: 'zero', 'ID': 420.558, 58: 'its a code', 68.2: 'its another code'}, {'name': 'muzammil', 'rank': 4, 0: 'zero', 'ID': 420.558, 58: 'its a code', 68.2: 'its another code'}, {'name': 'muzammil', 'rank': 4, 0: 'zero', 'ID': 420.558, 58: 'its a code', 68.2: 'its another code'}, {'name': 'muzammil', 'rank': 4, 0: 'zero', 'ID': 420.558, 58: 'its a code', 68.2: 'its another code'}, {'name': 'muzammil', 'rank': 4, 0: 'zero', 'ID': 420.558, 58: 'its a code', 68.2: 'its another code'}]\n"
     ]
    }
   ],
   "source": [
    "print(l1)"
   ]
  },
  {
   "cell_type": "code",
   "execution_count": 57,
   "metadata": {},
   "outputs": [],
   "source": [
    "l1.append(dict1)"
   ]
  },
  {
   "cell_type": "code",
   "execution_count": 70,
   "metadata": {},
   "outputs": [
    {
     "name": "stdout",
     "output_type": "stream",
     "text": [
      "[{'name': 'muzammil', 'rank': 4, 0: 'zero', 'ID': 420.558, 58: 'its a code', 68.2: 'its another code'}, {'name': 'muzammil', 'rank': 4, 0: 'zero', 'ID': 420.558, 58: 'its a code', 68.2: 'its another code'}, {'name': 'muzammil', 'rank': 4, 0: 'zero', 'ID': 420.558, 58: 'its a code', 68.2: 'its another code'}, {'name': 'muzammil', 'rank': 4, 0: 'zero', 'ID': 420.558, 58: 'its a code', 68.2: 'its another code'}, {'name': 'muzammil', 'rank': 4, 0: 'zero', 'ID': 420.558, 58: 'its a code', 68.2: 'its another code'}]\n"
     ]
    }
   ],
   "source": [
    "print(l1)"
   ]
  },
  {
   "cell_type": "code",
   "execution_count": 59,
   "metadata": {},
   "outputs": [],
   "source": [
    "l1.append(dict4)"
   ]
  },
  {
   "cell_type": "code",
   "execution_count": 73,
   "metadata": {},
   "outputs": [
    {
     "name": "stdout",
     "output_type": "stream",
     "text": [
      "[{'name': 'muzammil', 'rank': 4, 0: 'zero', 'ID': 420.558, 58: 'its a code', 68.2: 'its another code'}, {'name': 'muzammil', 'rank': 4, 0: 'zero', 'ID': 420.558, 58: 'its a code', 68.2: 'its another code'}, {'name': 'muzammil', 'rank': 4, 0: 'zero', 'ID': 420.558, 58: 'its a code', 68.2: 'its another code'}, {'name': 'muzammil', 'rank': 4, 0: 'zero', 'ID': 420.558, 58: 'its a code', 68.2: 'its another code'}, {'name': 'muzammil', 'rank': 4, 0: 'zero', 'ID': 420.558, 58: 'its a code', 68.2: 'its another code'}]\n"
     ]
    }
   ],
   "source": [
    "print(l1)"
   ]
  },
  {
   "cell_type": "code",
   "execution_count": 80,
   "metadata": {},
   "outputs": [],
   "source": [
    "dict5={}\n",
    "for i in range(0,4):\n",
    "    dict5[i]=dict4"
   ]
  },
  {
   "cell_type": "code",
   "execution_count": 83,
   "metadata": {},
   "outputs": [
    {
     "name": "stdout",
     "output_type": "stream",
     "text": [
      "{1: {'name': 'Syed', 0: 'Waqar', 1: 'Mujtaba', 2: 'Muzammil'}, 3: {'name': 'Syed', 0: 'Waqar', 1: 'Mujtaba', 2: 'Muzammil'}}\n"
     ]
    }
   ],
   "source": [
    "del dict5[2]\n",
    "print(dict5)"
   ]
  },
  {
   "cell_type": "code",
   "execution_count": 75,
   "metadata": {},
   "outputs": [
    {
     "data": {
      "text/plain": [
       "[1, 'hasan', 'syed', 4, 5, 2.5, True, 'Muzammil']"
      ]
     },
     "execution_count": 75,
     "metadata": {},
     "output_type": "execute_result"
    }
   ],
   "source": [
    "l1=[1,\"hasan\",\"syed\",4,5,2.5,True,\"Muzammil\"]\n",
    "l1"
   ]
  },
  {
   "cell_type": "code",
   "execution_count": 85,
   "metadata": {},
   "outputs": [
    {
     "name": "stdout",
     "output_type": "stream",
     "text": [
      "{-4: [1, 'hasan', 'syed', 4, 5, 2.5, True, 'Muzammil'], -3: [1, 'hasan', 'syed', 4, 5, 2.5, True, 'Muzammil'], -2: [1, 'hasan', 'syed', 4, 5, 2.5, True, 'Muzammil'], -1: [1, 'hasan', 'syed', 4, 5, 2.5, True, 'Muzammil']}\n"
     ]
    }
   ],
   "source": [
    "dict6={}\n",
    "for i in range(2,6,1):\n",
    "    dict6[i-6]=l1\n",
    "print(dict6)"
   ]
  },
  {
   "cell_type": "code",
   "execution_count": 86,
   "metadata": {},
   "outputs": [
    {
     "name": "stdout",
     "output_type": "stream",
     "text": [
      "4\n"
     ]
    }
   ],
   "source": [
    "print(len(dict6))"
   ]
  },
  {
   "cell_type": "code",
   "execution_count": 14,
   "metadata": {},
   "outputs": [],
   "source": [
    "def addNames():\n",
    "    firstName=\"Syed\"\n",
    "    lastName=\"Hasan\"\n",
    "    print(firstName+lastName)\n",
    "    "
   ]
  },
  {
   "cell_type": "code",
   "execution_count": 15,
   "metadata": {},
   "outputs": [
    {
     "name": "stdout",
     "output_type": "stream",
     "text": [
      "SyedHasan\n"
     ]
    }
   ],
   "source": [
    "addNames()"
   ]
  },
  {
   "cell_type": "code",
   "execution_count": 27,
   "metadata": {},
   "outputs": [],
   "source": [
    "def addNames(firstName,lastName):\n",
    "    print(firstName+lastName)"
   ]
  },
  {
   "cell_type": "code",
   "execution_count": 28,
   "metadata": {},
   "outputs": [
    {
     "name": "stdout",
     "output_type": "stream",
     "text": [
      "MuzammilHAsan\n"
     ]
    }
   ],
   "source": [
    "addNames (\"Muzammil\",\"HAsan\") # positional arguments"
   ]
  },
  {
   "cell_type": "code",
   "execution_count": 19,
   "metadata": {},
   "outputs": [
    {
     "name": "stdout",
     "output_type": "stream",
     "text": [
      "MuzammilHasan\n"
     ]
    }
   ],
   "source": [
    "addNames(firstName=\"Muzammil\",lastName=\"Hasan\") # keyword arguments"
   ]
  },
  {
   "cell_type": "code",
   "execution_count": 21,
   "metadata": {},
   "outputs": [
    {
     "name": "stdout",
     "output_type": "stream",
     "text": [
      "MuzammilHasan\n"
     ]
    }
   ],
   "source": [
    "addNames(lastName=\"Hasan\",firstName=\"Muzammil\") # keyword arguments"
   ]
  },
  {
   "cell_type": "code",
   "execution_count": 33,
   "metadata": {},
   "outputs": [],
   "source": [
    "def addNames(firstName,lastName,middleName=\" S\"): # optional arguments\n",
    "    print(firstName+lastName+middleName)"
   ]
  },
  {
   "cell_type": "code",
   "execution_count": 34,
   "metadata": {},
   "outputs": [
    {
     "name": "stdout",
     "output_type": "stream",
     "text": [
      "muzammil hasan Syed\n",
      "muzammil hasan S\n"
     ]
    }
   ],
   "source": [
    "addNames(\"muzammil\",\" hasan\",\" Syed\");addNames(\"muzammil\",\" hasan\")"
   ]
  },
  {
   "cell_type": "code",
   "execution_count": 27,
   "metadata": {},
   "outputs": [],
   "source": [
    "def calPercent(marksObtained,totalMarks=100):\n",
    "    print(marksObtained/totalMarks)"
   ]
  },
  {
   "cell_type": "code",
   "execution_count": 28,
   "metadata": {},
   "outputs": [
    {
     "name": "stdout",
     "output_type": "stream",
     "text": [
      "0.75\n"
     ]
    }
   ],
   "source": [
    "calPercent(75)"
   ]
  },
  {
   "cell_type": "code",
   "execution_count": 41,
   "metadata": {},
   "outputs": [],
   "source": [
    "def calPercent(marksObtained, totalMarks=100 ,*otherInfo):  # unknown number of arguments passed as a tuple\n",
    "    print(otherInfo)\n",
    "    print(marksObtained/totalMarks)"
   ]
  },
  {
   "cell_type": "code",
   "execution_count": 46,
   "metadata": {},
   "outputs": [
    {
     "name": "stdout",
     "output_type": "stream",
     "text": [
      "0.85\n",
      "('Muzammil is Passed',)\n"
     ]
    }
   ],
   "source": [
    "calPercent(85,100,\"Muzammil is Passed\")"
   ]
  },
  {
   "cell_type": "code",
   "execution_count": 47,
   "metadata": {},
   "outputs": [],
   "source": [
    "def calPercent(marksObtained, totalMarks=100 ,**otherInfo):  # unknown number of arguments passed as a dictionary\n",
    "    print(marksObtained/totalMarks)\n",
    "    print(otherInfo)"
   ]
  },
  {
   "cell_type": "code",
   "execution_count": 48,
   "metadata": {},
   "outputs": [
    {
     "name": "stdout",
     "output_type": "stream",
     "text": [
      "0.85\n",
      "{'Name': 'Muzammil', 'status': 'passed', 'school': 'la Canadiana'}\n"
     ]
    }
   ],
   "source": [
    "calPercent(85,100,Name=\"Muzammil\",status=\"passed\", school=\"la Canadiana\")"
   ]
  },
  {
   "cell_type": "code",
   "execution_count": 53,
   "metadata": {},
   "outputs": [
    {
     "name": "stdout",
     "output_type": "stream",
     "text": [
      "2\n",
      "50\n"
     ]
    }
   ],
   "source": [
    "x=50\n",
    "def funct():\n",
    "#     global x\n",
    "    x=2\n",
    "    print(x)\n",
    "\n",
    "funct()\n",
    "print(x)   "
   ]
  },
  {
   "cell_type": "code",
   "execution_count": 58,
   "metadata": {},
   "outputs": [
    {
     "name": "stdout",
     "output_type": "stream",
     "text": [
      "[1, 2, 3, 4, 6, 7]\n",
      "[1, 2, 3, 4]\n"
     ]
    }
   ],
   "source": [
    "x=[1,2,3,4]\n",
    "def l1(x):\n",
    "    x=x+[6,7]\n",
    "    print(x)\n",
    "l1(x)\n",
    "print(x)"
   ]
  },
  {
   "cell_type": "code",
   "execution_count": 60,
   "metadata": {},
   "outputs": [
    {
     "data": {
      "text/plain": [
       "2"
      ]
     },
     "execution_count": 60,
     "metadata": {},
     "output_type": "execute_result"
    }
   ],
   "source": [
    "def foo():\n",
    "    total=1\n",
    "    total+=1\n",
    "    return total\n",
    "foo()"
   ]
  },
  {
   "cell_type": "code",
   "execution_count": 62,
   "metadata": {},
   "outputs": [
    {
     "name": "stdout",
     "output_type": "stream",
     "text": [
      "[1, 2, 3, 4, 1]\n",
      "{1, 2, 3, 4}\n"
     ]
    }
   ],
   "source": [
    "x=[1,2,3,4,1]\n",
    "print(x)\n",
    "x={1,2,3,4,1}\n",
    "print(x)"
   ]
  },
  {
   "cell_type": "code",
   "execution_count": 10,
   "metadata": {},
   "outputs": [
    {
     "name": "stdout",
     "output_type": "stream",
     "text": [
      "enter a2\n",
      "enter b5\n",
      "7\n"
     ]
    }
   ],
   "source": [
    "def adding(a=4,b=4):\n",
    "    print(a+b)\n",
    "    \n",
    "a=int(input(\"enter a\"))\n",
    "b=int(input(\"enter b\"))\n",
    "\n",
    "\n",
    "if a<0 and b<0:\n",
    "    adding()\n",
    "else:\n",
    "    adding(a,b)\n",
    "\n"
   ]
  },
  {
   "cell_type": "code",
   "execution_count": 12,
   "metadata": {},
   "outputs": [
    {
     "name": "stdout",
     "output_type": "stream",
     "text": [
      "enter a2\n",
      "enter b8\n",
      "[4]\n",
      "[2, 3, 4, 5, 6, 7, 8]\n"
     ]
    }
   ],
   "source": [
    "def adding(a=4,b=4):\n",
    "    list1=[]\n",
    "    for i in range(a,b+1):\n",
    "        list1.append(i)\n",
    "    return list1\n",
    "    \n",
    "a=int(input(\"enter a\"))\n",
    "b=int(input(\"enter b\"))\n",
    "\n",
    "print(adding())\n",
    "print(adding(a,b))"
   ]
  },
  {
   "cell_type": "code",
   "execution_count": 17,
   "metadata": {},
   "outputs": [
    {
     "name": "stdout",
     "output_type": "stream",
     "text": [
      "enter a4\n",
      "enter b2\n",
      "maximum number is\t4\tMinimum number is\t2\n"
     ]
    }
   ],
   "source": [
    "def max(a=4,b=4):\n",
    "    if a>b :\n",
    "        print(\"maximum number is\",a,\"Minimum number is\",b,sep=\"\\t\")\n",
    "    \n",
    "a=int(input(\"enter a\"))\n",
    "b=int(input(\"enter b\"))\n",
    "\n",
    "\n",
    "max(a,b)"
   ]
  },
  {
   "cell_type": "code",
   "execution_count": 26,
   "metadata": {},
   "outputs": [
    {
     "name": "stdout",
     "output_type": "stream",
     "text": [
      "Enter series of numbers to be add123\n",
      "6\n",
      "15\n"
     ]
    }
   ],
   "source": [
    "def sum(list):\n",
    "    total=0\n",
    "    for i in list:\n",
    "        total+=int(i)\n",
    "    return total\n",
    "\n",
    "a = input (\"Enter series of numbers to be add\")\n",
    "\n",
    "t=sum (a)\n",
    "print(t) \n",
    "\n",
    "print(sum((1,2,3,4,5)))"
   ]
  },
  {
   "cell_type": "code",
   "execution_count": 21,
   "metadata": {},
   "outputs": [
    {
     "name": "stdout",
     "output_type": "stream",
     "text": [
      "\n",
      "I have a dog.\n",
      "My dog's name is Harry.\n",
      "\n",
      "I have a dog.\n",
      "My dog's name is Harry.\n",
      "\n",
      "I have a dog.\n",
      "My dog's name is Sam.\n"
     ]
    },
    {
     "ename": "TypeError",
     "evalue": "describe_pet() missing 1 required positional argument: 'animal_type'",
     "output_type": "error",
     "traceback": [
      "\u001b[1;31m---------------------------------------------------------------------------\u001b[0m",
      "\u001b[1;31mTypeError\u001b[0m                                 Traceback (most recent call last)",
      "\u001b[1;32m<ipython-input-21-b093c9bc1b35>\u001b[0m in \u001b[0;36m<module>\u001b[1;34m\u001b[0m\n\u001b[0;32m      7\u001b[0m \u001b[0mdescribe_pet\u001b[0m \u001b[1;33m(\u001b[0m\u001b[0mpet_name\u001b[0m\u001b[1;33m=\u001b[0m\u001b[1;34m\"harry\"\u001b[0m\u001b[1;33m,\u001b[0m\u001b[0manimal_type\u001b[0m\u001b[1;33m=\u001b[0m\u001b[1;34m\"dog\"\u001b[0m\u001b[1;33m)\u001b[0m\u001b[1;33m\u001b[0m\u001b[1;33m\u001b[0m\u001b[0m\n\u001b[0;32m      8\u001b[0m \u001b[0mdescribe_pet\u001b[0m \u001b[1;33m(\u001b[0m\u001b[1;34m\"dog\"\u001b[0m\u001b[1;33m)\u001b[0m\u001b[1;33m\u001b[0m\u001b[1;33m\u001b[0m\u001b[0m\n\u001b[1;32m----> 9\u001b[1;33m \u001b[0mdescribe_pet\u001b[0m \u001b[1;33m(\u001b[0m\u001b[0mpet_name\u001b[0m\u001b[1;33m=\u001b[0m\u001b[1;34m\"jami\"\u001b[0m\u001b[1;33m)\u001b[0m\u001b[1;33m\u001b[0m\u001b[1;33m\u001b[0m\u001b[0m\n\u001b[0m",
      "\u001b[1;31mTypeError\u001b[0m: describe_pet() missing 1 required positional argument: 'animal_type'"
     ]
    }
   ],
   "source": [
    "def describe_pet(animal_type, pet_name=\"Sam\"):\n",
    "    \"\"\"Display information about a pet.\"\"\"\n",
    "    print(\"\\nI have a \" + animal_type + \".\")\n",
    "    print(\"My \" + animal_type + \"'s name is \" + pet_name.title() + \".\")\n",
    "    \n",
    "describe_pet (\"dog\",\"harry\")   \n",
    "describe_pet (pet_name=\"harry\",animal_type=\"dog\")   \n",
    "describe_pet (\"dog\")  \n",
    "describe_pet (pet_name=\"jami\")  "
   ]
  },
  {
   "cell_type": "code",
   "execution_count": 30,
   "metadata": {},
   "outputs": [
    {
     "name": "stdout",
     "output_type": "stream",
     "text": [
      "{'first_name': 'albert', 'last_name': 'einstein', 'location': 'princeton', 'field': 'physics'}\n"
     ]
    }
   ],
   "source": [
    "def build_profile(first, last, **user_info):\n",
    "# \"\"Build a dictionary containing everything we know about a user.\"\"\"\n",
    "    profile = {}\n",
    "    profile['first_name'] = first\n",
    "    profile['last_name'] = last\n",
    "    for key, value in user_info.items():\n",
    "        profile[key] = value\n",
    "    return profile\n",
    "\n",
    "user_profile = build_profile('albert', 'einstein',location='princeton',field='physics')\n",
    "print(user_profile)"
   ]
  },
  {
   "cell_type": "code",
   "execution_count": 34,
   "metadata": {},
   "outputs": [
    {
     "name": "stdout",
     "output_type": "stream",
     "text": [
      "value 0\n",
      "value 1\n",
      "value 2\n",
      "value 3\n",
      "value 4\n",
      "value 5\n",
      "value 6\n",
      "value 7\n",
      "value 8\n",
      "value 9\n",
      "I am out\n"
     ]
    }
   ],
   "source": [
    "keep_looping = True\n",
    "w=0\n",
    "while keep_looping ==  True:\n",
    "    print(\"value\",w)\n",
    "    w+=1\n",
    "    if w==10:\n",
    "       keep_looping = False\n",
    "\n",
    "else:\n",
    "    print (\"I am out\")\n",
    "\n"
   ]
  },
  {
   "cell_type": "code",
   "execution_count": 2,
   "metadata": {},
   "outputs": [
    {
     "name": "stdout",
     "output_type": "stream",
     "text": [
      "value 0\n",
      "value 1\n",
      "value 2\n",
      "value 3\n",
      "value 4\n",
      "value 5\n",
      "value 6\n",
      "value 7\n",
      "value 8\n",
      "value 9\n"
     ]
    }
   ],
   "source": [
    "keep_looping = True\n",
    "w=0\n",
    "while keep_looping ==  True:\n",
    "    print(\"value\",w)\n",
    "    w+=1\n",
    "    if w==10:\n",
    "       # keep_looping = False\n",
    "        break\n",
    "else:\n",
    "    print (\"I am out\")"
   ]
  },
  {
   "cell_type": "code",
   "execution_count": 5,
   "metadata": {},
   "outputs": [
    {
     "name": "stdout",
     "output_type": "stream",
     "text": [
      "green\n",
      "blue\n"
     ]
    }
   ],
   "source": [
    "class Car():\n",
    "    color=\"green\"\n",
    "    \n",
    "print(Car().color)\n",
    "\n",
    "B= Car()\n",
    "B.color= \"blue\"\n",
    "print (B.color)"
   ]
  },
  {
   "cell_type": "code",
   "execution_count": 5,
   "metadata": {},
   "outputs": [
    {
     "name": "stdout",
     "output_type": "stream",
     "text": [
      "4     2000\n"
     ]
    }
   ],
   "source": [
    "class Car():\n",
    "    def __init__(self, doors, engine):\n",
    "        self.doors = doors\n",
    "        self.engine = engine\n",
    "        \n",
    "    def describeCar(self):\n",
    "        print(f\"{self.doors}\"+\"     \" +f\"{self.engine}\")\n",
    "        \n",
    "car1 = Car(4,2000)\n",
    "\n",
    "car1.describeCar()\n",
    "              \n",
    "              "
   ]
  },
  {
   "cell_type": "code",
   "execution_count": 7,
   "metadata": {},
   "outputs": [
    {
     "ename": "TypeError",
     "evalue": "feeling() takes 0 positional arguments but 1 was given",
     "output_type": "error",
     "traceback": [
      "\u001b[1;31m---------------------------------------------------------------------------\u001b[0m",
      "\u001b[1;31mTypeError\u001b[0m                                 Traceback (most recent call last)",
      "\u001b[1;32m<ipython-input-7-26b482c7f6ac>\u001b[0m in \u001b[0;36m<module>\u001b[1;34m\u001b[0m\n\u001b[0;32m      5\u001b[0m \u001b[0mr\u001b[0m \u001b[1;33m=\u001b[0m \u001b[0mRed\u001b[0m\u001b[1;33m(\u001b[0m\u001b[1;33m)\u001b[0m\u001b[1;33m\u001b[0m\u001b[1;33m\u001b[0m\u001b[0m\n\u001b[0;32m      6\u001b[0m \u001b[1;33m\u001b[0m\u001b[0m\n\u001b[1;32m----> 7\u001b[1;33m \u001b[0mprint\u001b[0m\u001b[1;33m(\u001b[0m\u001b[0mr\u001b[0m\u001b[1;33m.\u001b[0m\u001b[0mfeeling\u001b[0m\u001b[1;33m(\u001b[0m\u001b[1;33m)\u001b[0m\u001b[1;33m)\u001b[0m\u001b[1;33m\u001b[0m\u001b[1;33m\u001b[0m\u001b[0m\n\u001b[0m",
      "\u001b[1;31mTypeError\u001b[0m: feeling() takes 0 positional arguments but 1 was given"
     ]
    }
   ],
   "source": [
    "class Red:\n",
    "    def feeling():\n",
    "        return \"Lucky!\"\n",
    "\n",
    "r = Red()\n",
    "\n",
    "print(r.feeling())"
   ]
  },
  {
   "cell_type": "code",
   "execution_count": 8,
   "metadata": {},
   "outputs": [
    {
     "name": "stdout",
     "output_type": "stream",
     "text": [
      "Lucky!\n"
     ]
    }
   ],
   "source": [
    "class Red:\n",
    "    def feeling(self):\n",
    "        return \"Lucky!\"\n",
    "\n",
    "r = Red()\n",
    "\n",
    "print(r.feeling())"
   ]
  },
  {
   "cell_type": "code",
   "execution_count": 24,
   "metadata": {},
   "outputs": [
    {
     "name": "stdout",
     "output_type": "stream",
     "text": [
      "Don't write code like this\n"
     ]
    }
   ],
   "source": [
    "class Horrible:\n",
    "    def bad_code(weird): # you can any varible instead of self\n",
    "        return \"Don't write code like this\"\n",
    "\n",
    "h = Horrible()\n",
    "print(h.bad_code())"
   ]
  },
  {
   "cell_type": "code",
   "execution_count": 15,
   "metadata": {},
   "outputs": [
    {
     "data": {
      "text/plain": [
       "'H'"
      ]
     },
     "execution_count": 15,
     "metadata": {},
     "output_type": "execute_result"
    }
   ],
   "source": [
    "\"Hello\"[0]"
   ]
  },
  {
   "cell_type": "code",
   "execution_count": 22,
   "metadata": {},
   "outputs": [
    {
     "name": "stdout",
     "output_type": "stream",
     "text": [
      "not a minor partient with age = 20\n"
     ]
    }
   ],
   "source": [
    "class patient():\n",
    "    def __init__(self, name, age):\n",
    "        self.name=name\n",
    "        self.age=age\n",
    "    def checkage(self):\n",
    "       if self.age < 18 :\n",
    "         print (\"minor partient with age =\",self.age)\n",
    "       else:\n",
    "         print (\"not a minor partient with age =\",self.age)\n",
    "    def changeage(self):\n",
    "        self.age=20\n",
    "\n",
    "p1=patient(\"saad\",12)\n",
    "p1.changeage()\n",
    "\n",
    "p1.checkage()"
   ]
  },
  {
   "cell_type": "code",
   "execution_count": 37,
   "metadata": {},
   "outputs": [
    {
     "name": "stdout",
     "output_type": "stream",
     "text": [
      "hello world this is my file\n",
      "hello this is my \n",
      "you are looking for \n",
      "where are you\n",
      "look for me\n",
      "\n"
     ]
    }
   ],
   "source": [
    "greeting= '''\n",
    "hello this is my \n",
    "you are looking for \n",
    "where are you\n",
    "look for me\n",
    "'''\n",
    "with open(\"D:\\PIAIC\\Python_Hello_World\\myfile.txt\", \"w\") as f:\n",
    "    f.write(\"hello world this is my file\")\n",
    "    f.write(greeting)\n",
    "    \n",
    "with open(\"D:\\PIAIC\\Python_Hello_World\\myfile.txt\", \"r\") as f:\n",
    "    filetext = f.read()\n",
    "    print(filetext)\n"
   ]
  },
  {
   "cell_type": "code",
   "execution_count": 44,
   "metadata": {},
   "outputs": [
    {
     "name": "stdout",
     "output_type": "stream",
     "text": [
      "hello world this is my file\n",
      "hello this is my \n",
      "you are looking for \n",
      "where are you\n",
      "look for me\n",
      "\n",
      " \n",
      " this is the new appended text\n",
      " \n",
      " \n",
      " this is the new appended text\n",
      " \n",
      " this is the new appended text\n"
     ]
    }
   ],
   "source": [
    "with open(\"D:\\PIAIC\\Python_Hello_World\\myfile.txt\", \"a\") as f:\n",
    "    f.write(\"\\n \\n this is the new appended text\")\n",
    "\n",
    "with open(\"D:\\PIAIC\\Python_Hello_World\\myfile.txt\") as f:\n",
    "    print(f.read())\n",
    "        "
   ]
  },
  {
   "cell_type": "code",
   "execution_count": 50,
   "metadata": {},
   "outputs": [
    {
     "name": "stdout",
     "output_type": "stream",
     "text": [
      "hello world this is my file\n",
      "\n",
      "['hello this is my \\n', 'you are looking for \\n', 'where are you\\n', 'look for me\\n', '\\n', ' \\n', ' this is the new appended text\\n', ' \\n', ' \\n', ' this is the new appended text\\n', ' \\n', ' this is the new appended text']\n"
     ]
    }
   ],
   "source": [
    "with open(\"D:\\PIAIC\\Python_Hello_World\\myfile.txt\") as f:\n",
    "        print(f.readline())\n",
    "        print(f.readlines())\n",
    "    "
   ]
  },
  {
   "cell_type": "code",
   "execution_count": 5,
   "metadata": {},
   "outputs": [
    {
     "name": "stdout",
     "output_type": "stream",
     "text": [
      "['Name', 'father Name', 'age', 'Muzammil', 'Mamnoon', '37', 'Muddasssir', 'Mamnoon', '33', 'Hina', 'Mamnoon', '35']\n"
     ]
    }
   ],
   "source": [
    "# working with csv files\n",
    "\n",
    "import csv\n",
    "\n",
    "with open(\"D:\\PIAIC\\Python_Hello_World\\myfile.csv\",\"w\",newline=\"\") as f:\n",
    "    data_handler= csv.writer(f,delimiter=\",\")\n",
    "    data_handler.writerow([\"Name\",\"father Name\",\"age\"])\n",
    "    data_handler.writerow([\"Muzammil\",\"Mamnoon\",\"37\"])\n",
    "\n",
    "with open(\"D:\\PIAIC\\Python_Hello_World\\myfile.csv\",\"a\",newline=\"\") as f:\n",
    "    data_handler= csv.writer(f,delimiter=\",\")\n",
    "    data_handler.writerow([\"Muddasssir\",\"Mamnoon\",\"33\"])\n",
    "    data_handler.writerow([\"Hina\",\"Mamnoon\",\"35\"])\n",
    "\n",
    "data=[]\n",
    "with open(\"D:\\PIAIC\\Python_Hello_World\\myfile.csv\",\"r\",) as f:\n",
    "    data_handler= csv.reader(f)\n",
    "    \n",
    "    for each_line in data_handler:\n",
    "        data+=each_line\n",
    "    \n",
    "print (data)"
   ]
  },
  {
   "cell_type": "code",
   "execution_count": 1,
   "metadata": {},
   "outputs": [
    {
     "name": "stdout",
     "output_type": "stream",
     "text": [
      "{'0': {'Name': 'Hasan', 'father Name': 'Mamnoon', 'age': 37}, '1': {'Name1': 'Hasan1', 'father Name1': 'Mamnoon1', 'age1': 37}, '3': [1, 2, 3, 4, 5]}\n"
     ]
    }
   ],
   "source": [
    "# You can't save a Python list in a text file. You can only save a text string.\n",
    "\n",
    "# JavaScript Object Notation = json\n",
    "\n",
    "\n",
    "import json\n",
    "\n",
    "d1={\n",
    "  \n",
    "    0:{\"Name\":\"Hasan\",\"father Name\":\"Mamnoon\",\"age\":37},\n",
    "    1:{\"Name1\":\"Hasan1\",\"father Name1\":\"Mamnoon1\",\"age1\":37},\n",
    "    3:[1,2,3,4,5]\n",
    "}\n",
    "\n",
    "with open(\"D:\\PIAIC\\Python_Hello_World\\myfile.json\",\"w\",) as f:\n",
    "    json.dump(d1,f)\n",
    "# with open(\"D:\\PIAIC\\Python_Hello_World\\myfile.json\",\"a\",) as f:\n",
    "#      json.dump(dir1,f)\n",
    "    \n",
    "with open(\"D:\\PIAIC\\Python_Hello_World\\myfile.json\",\"r\") as f:\n",
    "    data=json.load(f)\n",
    "    \n",
    "print(data)"
   ]
  },
  {
   "cell_type": "code",
   "execution_count": null,
   "metadata": {},
   "outputs": [],
   "source": [
    "try:\n",
    "    print(5/0)\n",
    "except ZeroDivisionError:\n",
    "    print (\"print error\")"
   ]
  },
  {
   "cell_type": "code",
   "execution_count": 8,
   "metadata": {},
   "outputs": [
    {
     "name": "stdout",
     "output_type": "stream",
     "text": [
      "enter numbers to be divided : D/N 34\n",
      "3\n",
      "4\n",
      "division result : 0.75\n",
      "2. ran smoothly\n",
      "3. this is fianlly block\n",
      "enter numbers to be divided : D/N 50\n",
      "5\n",
      "0\n",
      "1. some error, you attempted to divide by zero\n",
      "3. this is fianlly block\n"
     ]
    }
   ],
   "source": [
    "flag =1\n",
    "\n",
    "while flag:\n",
    "    n1 , n2= input (\"enter numbers to be divided : D/N \")\n",
    "    print(n1)\n",
    "    print(n2)\n",
    "    if int(n2)==0 :\n",
    "        flag=0\n",
    "    try:\n",
    "        print(\"division result :\", int(n1)/int(n2))\n",
    "    except ZeroDivisionError:\n",
    "        print (\"1. some error, you attempted to divide by zero\")\n",
    "    except TypeError:\n",
    "        print (\"1. some error, tye Error\")\n",
    "    else:\n",
    "        print(\"2. ran smoothly\")\n",
    "    finally:\n",
    "        print(\"3. this is fianlly block\")"
   ]
  },
  {
   "cell_type": "code",
   "execution_count": 22,
   "metadata": {},
   "outputs": [
    {
     "name": "stdout",
     "output_type": "stream",
     "text": [
      "enter numbers to be divided : D/N 25\n",
      "1. some error,this catches everything \n",
      "3. this is fianlly block\n"
     ]
    }
   ],
   "source": [
    "    n1 , n2= input (\"enter numbers to be divided : D/N \")\n",
    "    \n",
    "    try:\n",
    "        print(\"division result :\", n1/int(n2))\n",
    "    \n",
    "    except ZeroDivisionError:\n",
    "        print (\"1. some error, you attempted to divide by zero\")\n",
    "#     except TypeError:\n",
    "#         print (\"1. some error, tye Error\")\n",
    "    except FileNotFoundError:\n",
    "        print (\"1. some error,File not found \")\n",
    "    except:\n",
    "        print (\"1. some error,this catches everything \")\n",
    "    else:\n",
    "        print(\"2. ran smoothly\")\n",
    "    finally:\n",
    "        print(\"3. this is fianlly block\")"
   ]
  },
  {
   "cell_type": "code",
   "execution_count": null,
   "metadata": {},
   "outputs": [],
   "source": []
  }
 ],
 "metadata": {
  "kernelspec": {
   "display_name": "Python 3",
   "language": "python",
   "name": "python3"
  },
  "language_info": {
   "codemirror_mode": {
    "name": "ipython",
    "version": 3
   },
   "file_extension": ".py",
   "mimetype": "text/x-python",
   "name": "python",
   "nbconvert_exporter": "python",
   "pygments_lexer": "ipython3",
   "version": "3.7.3"
  }
 },
 "nbformat": 4,
 "nbformat_minor": 2
}
